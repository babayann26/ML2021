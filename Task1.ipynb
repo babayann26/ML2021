{
 "cells": [
  {
   "cell_type": "code",
   "execution_count": 1,
   "metadata": {},
   "outputs": [],
   "source": [
    "import numpy as np\n",
    "from scipy.integrate import odeint"
   ]
  },
  {
   "cell_type": "code",
   "execution_count": 2,
   "metadata": {},
   "outputs": [],
   "source": [
    "s = 10\n",
    "r = 28\n",
    "b = 8/3\n",
    "t0 = 0\n",
    "t1 = 2\n",
    "x0 = 10\n",
    "y0 = 10\n",
    "z0 = 10"
   ]
  },
  {
   "cell_type": "code",
   "execution_count": 3,
   "metadata": {},
   "outputs": [],
   "source": [
    "def F(a,t):\n",
    "    dxdt = -s*a[0]+s*a[1]\n",
    "    dydt = r*a[0]-a[1]-a[0]*a[2]\n",
    "    dzdt = a[0]*a[1]-b*a[2]\n",
    "    return [dxdt,dydt,dzdt]\n",
    "t = np.linspace(t0,t1)\n",
    "a0 = [x0,y0,z0]\n",
    "a = odeint(F,a0,t)"
   ]
  },
  {
   "cell_type": "code",
   "execution_count": 4,
   "metadata": {},
   "outputs": [],
   "source": [
    "from bokeh.plotting import figure, show\n",
    "p = figure(title = \"Dynamic System\",x_axis_label = \"t\",y_axis_label = \"x(t),y(t),z(t)\")\n",
    "p.line(t,a[:,0],legend_label=\"x(t)\",line_color = \"red\", line_width =2)\n",
    "p.line(t,a[:,1],legend_label=\"y(t)\",line_color = \"green\", line_width =2)\n",
    "p.line(t,a[:,2],legend_label=\"z(t)\",line_color = \"blue\", line_width =2)\n",
    "show(p)"
   ]
  },
  {
   "cell_type": "code",
   "execution_count": null,
   "metadata": {},
   "outputs": [],
   "source": []
  }
 ],
 "metadata": {
  "kernelspec": {
   "display_name": "Python 3",
   "language": "python",
   "name": "python3"
  },
  "language_info": {
   "codemirror_mode": {
    "name": "ipython",
    "version": 3
   },
   "file_extension": ".py",
   "mimetype": "text/x-python",
   "name": "python",
   "nbconvert_exporter": "python",
   "pygments_lexer": "ipython3",
   "version": "3.8.5"
  }
 },
 "nbformat": 4,
 "nbformat_minor": 4
}
